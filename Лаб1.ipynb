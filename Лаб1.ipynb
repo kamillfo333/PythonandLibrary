{
  "nbformat": 4,
  "nbformat_minor": 0,
  "metadata": {
    "colab": {
      "provenance": [],
      "include_colab_link": true
    },
    "kernelspec": {
      "name": "python3",
      "display_name": "Python 3"
    },
    "language_info": {
      "name": "python"
    }
  },
  "cells": [
    {
      "cell_type": "markdown",
      "metadata": {
        "id": "view-in-github",
        "colab_type": "text"
      },
      "source": [
        "<a href=\"https://colab.research.google.com/github/kamillfo333/PythonandLibrary/blob/main/%D0%9B%D0%B0%D0%B11.ipynb\" target=\"_parent\"><img src=\"https://colab.research.google.com/assets/colab-badge.svg\" alt=\"Open In Colab\"/></a>"
      ]
    },
    {
      "cell_type": "markdown",
      "source": [
        "Begin 5"
      ],
      "metadata": {
        "id": "dYZO-M18STJz"
      }
    },
    {
      "cell_type": "code",
      "execution_count": null,
      "metadata": {
        "colab": {
          "base_uri": "https://localhost:8080/"
        },
        "id": "TPP48uwlRQ9C",
        "outputId": "7584e7f4-8a4b-4e12-dd03-0cc4ce77e671"
      },
      "outputs": [
        {
          "output_type": "stream",
          "name": "stdout",
          "text": [
            "Ребро куба:  1\n",
            "Объем:  1\n",
            "Площадь поверхности:  6\n"
          ]
        }
      ],
      "source": [
        "import random\n",
        "\n",
        "a = random.randrange(1,10)\n",
        "print(\"Ребро куба: \", a)\n",
        "V = a**3\n",
        "print(\"Объем: \", V)\n",
        "S = 6 * a**2\n",
        "print(\"Площадь поверхности: \", S)"
      ]
    },
    {
      "cell_type": "markdown",
      "source": [
        "Begin 16"
      ],
      "metadata": {
        "id": "OOvKh-K9cAps"
      }
    },
    {
      "cell_type": "code",
      "source": [
        "import random\n",
        "\n",
        "x1 = random.randrange(-10,10)\n",
        "x2 = random.randrange(-10,10)\n",
        "print(\"x1: \", x1)\n",
        "print(\"x2: \", x2)\n",
        "print(\"Расстояние: \", abs(x2-x1))"
      ],
      "metadata": {
        "id": "rlYz_Q16bS5m",
        "outputId": "b42c5ff4-7a37-47a1-e3f2-49246a57656b",
        "colab": {
          "base_uri": "https://localhost:8080/"
        }
      },
      "execution_count": null,
      "outputs": [
        {
          "output_type": "stream",
          "name": "stdout",
          "text": [
            "x1:  -2\n",
            "x2:  1\n",
            "Расстояние:  3\n"
          ]
        }
      ]
    },
    {
      "cell_type": "markdown",
      "source": [
        "Integer 5\n"
      ],
      "metadata": {
        "id": "PSwXGKVHcCct"
      }
    },
    {
      "cell_type": "code",
      "source": [
        "import random\n",
        "\n",
        "A = random.randrange(1,100)\n",
        "B = random.randrange(1,A)\n",
        "print(\"A = \", A)\n",
        "print(\"B = \", B)\n",
        "x = A%B\n",
        "print(\"Длина незанятой части отрезка A: \", x)"
      ],
      "metadata": {
        "id": "4nAH4i6KcG67",
        "outputId": "43dbd703-da18-4c7e-9e7a-ea1bae1e11da",
        "colab": {
          "base_uri": "https://localhost:8080/"
        }
      },
      "execution_count": null,
      "outputs": [
        {
          "output_type": "stream",
          "name": "stdout",
          "text": [
            "A =  52\n",
            "B =  37\n",
            "Длина незанятой части отрезка A:  15\n"
          ]
        }
      ]
    },
    {
      "cell_type": "markdown",
      "source": [
        "Integer 16"
      ],
      "metadata": {
        "id": "gvbcZ7vLcvCu"
      }
    },
    {
      "cell_type": "code",
      "source": [
        "import random\n",
        "N = random.randrange(100,1000)\n",
        "print(\"Число: \", N)\n",
        "d2 = int(N/100)\n",
        "d1 = int((N-d2*100)/10)\n",
        "d0 = N%10\n",
        "print(\"Сотни: \", d2)\n",
        "print(\"Десятки: \", d1)\n",
        "print(\"Единицы: \", d0)\n",
        "print(\"Другое число: \", d2*100 + d0*10 + d1)"
      ],
      "metadata": {
        "id": "H8d8gftecw8-",
        "outputId": "a2f8e81f-357e-4e43-ffa9-a26fb977e6bc",
        "colab": {
          "base_uri": "https://localhost:8080/"
        }
      },
      "execution_count": null,
      "outputs": [
        {
          "output_type": "stream",
          "name": "stdout",
          "text": [
            "Число:  489\n",
            "Сотни:  4\n",
            "Десятки:  8\n",
            "Единицы:  9\n",
            "Другое число:  498\n"
          ]
        }
      ]
    },
    {
      "cell_type": "markdown",
      "source": [
        "Boolean 5\n"
      ],
      "metadata": {
        "id": "4PLXgGVEc0Gu"
      }
    },
    {
      "cell_type": "code",
      "source": [
        "import random\n",
        "A = random.randrange(-10,10)\n",
        "B = random.randrange(-10,10)\n",
        "print(\"A = \", A)\n",
        "print(\"B = \", B)\n",
        "x = (A>=0) or (B<-2)\n",
        "print(\"A >= 0: \", (A>=0))\n",
        "print(\"B < -2: \", (B<-2))\n",
        "print(\"A>=0 или B<-2: \", x)"
      ],
      "metadata": {
        "id": "koltathhc3--",
        "outputId": "4aafa235-4340-4d62-b247-a1f2d61867b2",
        "colab": {
          "base_uri": "https://localhost:8080/"
        }
      },
      "execution_count": null,
      "outputs": [
        {
          "output_type": "stream",
          "name": "stdout",
          "text": [
            "A =  -2\n",
            "B =  -9\n",
            "A >= 0:  False\n",
            "B < -2:  True\n",
            "A>=0 или B<-2:  True\n"
          ]
        }
      ]
    },
    {
      "cell_type": "markdown",
      "source": [
        "Boolean 16"
      ],
      "metadata": {
        "id": "Vtku4Ce2dcdj"
      }
    },
    {
      "cell_type": "code",
      "source": [
        "import random\n",
        "A = random.randrange(1,200)\n",
        "print(\"A = \", A)\n",
        "a = (A%2 == 0)\n",
        "b = (A>=10 and A<=99)\n",
        "x = (a and b)\n",
        "print(\"A четно: \", a)\n",
        "print(\"A двузначно: \", b)\n",
        "print(\"Данное число является четным двузначным: \", x)"
      ],
      "metadata": {
        "id": "XLuIjU12desD",
        "outputId": "6283e36d-d767-49da-c79e-6277e76eb85a",
        "colab": {
          "base_uri": "https://localhost:8080/"
        }
      },
      "execution_count": null,
      "outputs": [
        {
          "output_type": "stream",
          "name": "stdout",
          "text": [
            "A =  103\n",
            "A четно:  False\n",
            "A двузначно:  False\n",
            "Данное число является четным двузначным:  False\n"
          ]
        }
      ]
    },
    {
      "cell_type": "markdown",
      "source": [
        "IF 5"
      ],
      "metadata": {
        "id": "OSDQNMSqd6fE"
      }
    },
    {
      "cell_type": "code",
      "source": [
        "import random\n",
        "A = random.randrange(-3,3)\n",
        "B = random.randrange(-3,3)\n",
        "C = random.randrange(-3,3)\n",
        "print(\"Три числа:\", A, B, C)\n",
        "x = 0\n",
        "if A > 0:\n",
        "    x += 1\n",
        "if B > 0:\n",
        "    x += 1\n",
        "if C > 0:\n",
        "    x += 1\n",
        "print(\"Количество положительных чисел: \", x)\n",
        "y = 0\n",
        "if A < 0:\n",
        "    y += 1\n",
        "if B < 0:\n",
        "    y += 1\n",
        "if C < 0:\n",
        "    y += 1\n",
        "print(\"Количество отрицательных чисел: \", y)"
      ],
      "metadata": {
        "id": "WjPIHkcnd_U7",
        "outputId": "6a84c112-01b2-47b1-af62-fdf108bb601f",
        "colab": {
          "base_uri": "https://localhost:8080/"
        }
      },
      "execution_count": null,
      "outputs": [
        {
          "output_type": "stream",
          "name": "stdout",
          "text": [
            "Три числа: -1 -1 0\n",
            "Количество положительных чисел:  0\n",
            "Количество отрицательных чисел:  2\n"
          ]
        }
      ]
    },
    {
      "cell_type": "markdown",
      "source": [
        "IF16\n"
      ],
      "metadata": {
        "id": "NTTHAjdyelNy"
      }
    },
    {
      "cell_type": "code",
      "source": [
        "import random\n",
        "A = random.randrange(-30,30)\n",
        "B = random.randrange(-30,30)\n",
        "C = random.randrange(-30,30)\n",
        "print(\"Число A:\", A)\n",
        "print(\"Число B:\", B)\n",
        "print(\"Число C:\", C)\n",
        "if (A < B and B < C):\n",
        "    k = 2\n",
        "else:\n",
        "    k = -1\n",
        "A *= k\n",
        "B *= k\n",
        "C *= k\n",
        "    \n",
        "print()    \n",
        "print(\"Число A:\", A)\n",
        "print(\"Число B:\", B)\n",
        "print(\"Число C:\", C)"
      ],
      "metadata": {
        "id": "lz7JLEebenJa",
        "outputId": "37270558-26de-48c9-bf5b-87ae5cc7609f",
        "colab": {
          "base_uri": "https://localhost:8080/"
        }
      },
      "execution_count": null,
      "outputs": [
        {
          "output_type": "stream",
          "name": "stdout",
          "text": [
            "Число A: -7\n",
            "Число B: 23\n",
            "Число C: 14\n",
            "\n",
            "Число A: 7\n",
            "Число B: -23\n",
            "Число C: -14\n"
          ]
        }
      ]
    }
  ]
}